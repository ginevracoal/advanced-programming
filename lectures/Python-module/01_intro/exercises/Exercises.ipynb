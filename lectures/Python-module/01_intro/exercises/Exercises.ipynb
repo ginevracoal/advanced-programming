{
 "cells": [
  {
   "cell_type": "code",
   "execution_count": 6,
   "metadata": {
    "collapsed": false
   },
   "outputs": [],
   "source": [
    "# is_palindrome(string): True if s is palindrome\n",
    "\n",
    "import inspect \n",
    "def is_palindrome(string_var): \n",
    "    '''\n",
    "    ex_1\n",
    "    '''\n",
    "    fname = inspect.stack()[0][3]\n",
    "    ret = None\n",
    "    ########################\n",
    "    \n",
    "    n=len(string_var)\n",
    "    \n",
    "    for i in range(n):\n",
    "        new_string = string_var[::-1] #legge e salva la stringa al contrario\n",
    "        if new_string==string_var:\n",
    "            return True\n",
    "        else:\n",
    "            return False\n",
    "        \n",
    "    ########################\n",
    "    assert ret is not None, fname+' is not defined'\n",
    "    assert type(ret) is type(True), fname+' should return a bool'\n",
    "    if string_var is 'abcdefgfedcba': assert ret is True, 'failed abcdefgfedcba' \n",
    "    if string_var is 'pippo': assert ret is False, 'failed pippo' \n",
    "    if string_var is 'madamimadam': assert ret is True, 'failed madamimadam' \n",
    "    return ret\n"
   ]
  },
  {
   "cell_type": "code",
   "execution_count": 7,
   "metadata": {
    "collapsed": false
   },
   "outputs": [
    {
     "data": {
      "text/plain": [
       "True"
      ]
     },
     "execution_count": 7,
     "metadata": {},
     "output_type": "execute_result"
    }
   ],
   "source": [
    "is_palindrome(\"ababa\")"
   ]
  },
  {
   "cell_type": "code",
   "execution_count": 8,
   "metadata": {
    "collapsed": false
   },
   "outputs": [
    {
     "data": {
      "text/plain": [
       "False"
      ]
     },
     "execution_count": 8,
     "metadata": {},
     "output_type": "execute_result"
    }
   ],
   "source": [
    "is_palindrome(\"abbbb\")"
   ]
  },
  {
   "cell_type": "code",
   "execution_count": 9,
   "metadata": {
    "collapsed": false
   },
   "outputs": [],
   "source": [
    "# histogram_letters(string): return dict of {\"letter\": counts}\n",
    "\n",
    "from collections import OrderedDict\n",
    "def histogram_letters(string_var):     \n",
    "    '''\n",
    "    ex_2\n",
    "    '''\n",
    "    fname = inspect.stack()[0][3]\n",
    "    ret = None\n",
    "    ########################\n",
    "    ret = {} # creates an empty dictionary\n",
    "    for s in string_var:\n",
    "        try: \n",
    "            # get and overwrite value of s\n",
    "            ret.update({s:ret.get(s)+1}) \n",
    "        except (TypeError,KeyError): #s is missing\n",
    "            ret.update({s:1}) #adds an element to the list\n",
    "    \n",
    "    ########################\n",
    "    assert ret is not None, fname+' is not defined'\n",
    "    assert type(ret) is type({}), fname+' should return a dict'\n",
    "    if string_var is 'aabb': assert ret == {'a':2,'b':2}, 'failed aabb' \n",
    "    if string_var is 'abbccddddeeeeeffffff': assert ret == {'a':1,'b':2,'c':2,'d':4,'e':5,'f':6}, 'failed abbccddddeeeeeffffff' \n",
    "    if string_var is '1.223344': assert ret == {'.':1,'1':1,'2':2,'3':2,'4':2}, 'failed 1.223344'\n",
    "    return ret \n",
    "\n"
   ]
  },
  {
   "cell_type": "code",
   "execution_count": 10,
   "metadata": {
    "collapsed": false
   },
   "outputs": [
    {
     "data": {
      "text/plain": [
       "{'a': 1, 'c': 1, 'i': 1, 'o': 1}"
      ]
     },
     "execution_count": 10,
     "metadata": {},
     "output_type": "execute_result"
    }
   ],
   "source": [
    "histogram_letters(\"ciao\")"
   ]
  },
  {
   "cell_type": "code",
   "execution_count": 11,
   "metadata": {
    "collapsed": false
   },
   "outputs": [
    {
     "name": "stdout",
     "output_type": "stream",
     "text": [
      "['t', 'u', 'o']\n",
      "<class 'list'>\n",
      "t\n",
      "3\n"
     ]
    }
   ],
   "source": [
    "hist = histogram_letters(\"tutto\")\n",
    "\n",
    "# reverse ordered list\n",
    "newlist = sorted(hist,reverse=True,key=hist.get)\n",
    "print(newlist) \n",
    "print(type(newlist))\n",
    "\n",
    "idx = sorted(hist,reverse=True,key=hist.get)[0] # first key\n",
    "print(idx) # key\n",
    "print(hist[idx]) #value"
   ]
  },
  {
   "cell_type": "code",
   "execution_count": 131,
   "metadata": {
    "collapsed": true
   },
   "outputs": [],
   "source": [
    "# get_most_frequent(list): return tuple (element,counts)\n",
    "\n",
    "def get_most_frequent(list_var):\n",
    "    '''\n",
    "    ex_3\n",
    "    '''\n",
    "    fname = inspect.stack()[0][3]\n",
    "    ret = None\n",
    "    ########################\n",
    "    # ret() # empty n-uple\n",
    "    hist = histogram_letters(list_var) # use previous function\n",
    "    # returns the first key of the reversed histogram list\n",
    "    # sorted is suitable for all kinds of iterators\n",
    "    idx = sorted(hist,reverse=True,key=hist.get)[0]\n",
    "    ret = (idx,hist[idx]) \n",
    "    ########################\n",
    "    assert ret is not None, fname+' is not defined'\n",
    "    assert type(ret) is type(()), fname+' should return a tuple'\n",
    "    if list_var == [3,3,3,2,2,1]: assert ret == (3,3), 'failed [3,3,3,2,2,1]'\n",
    "    if list_var == [0,0,0,0,1]: assert ret == (0,4), 'failed [0,0,0,0,1]'\n",
    "    return ret"
   ]
  },
  {
   "cell_type": "code",
   "execution_count": 64,
   "metadata": {
    "collapsed": false
   },
   "outputs": [
    {
     "data": {
      "text/plain": [
       "('t', 3)"
      ]
     },
     "execution_count": 64,
     "metadata": {},
     "output_type": "execute_result"
    }
   ],
   "source": [
    "get_most_frequent(\"tutto\")"
   ]
  },
  {
   "cell_type": "code",
   "execution_count": 103,
   "metadata": {
    "collapsed": false
   },
   "outputs": [
    {
     "name": "stdout",
     "output_type": "stream",
     "text": [
      "['t', 'o', 'u']\n",
      "3\n",
      "1\n",
      "1\n"
     ]
    }
   ],
   "source": [
    "rev_list = sorted(hist,reverse=True,key=hist.get)\n",
    "print(rev_list)\n",
    "for i in rev_list:\n",
    "    print(hist[i])"
   ]
  },
  {
   "cell_type": "code",
   "execution_count": 12,
   "metadata": {
    "collapsed": true
   },
   "outputs": [],
   "source": [
    "# which_duplicates(list): return dict {element:[occurrences]} of duplicates\n",
    "def which_duplicates(list_var):\n",
    "    '''\n",
    "    ex_4\n",
    "    '''\n",
    "    fname = inspect.stack()[0][3]\n",
    "    # ret = None\n",
    "    ########################\n",
    "    ret = {} # empty dict\n",
    "    hist = histogram_letters(list_var)\n",
    "    rev_list = sorted(hist,reverse=True,key=hist.get)\n",
    "    for i in rev_list: \n",
    "        if hist[i]>1: # if it has at least two occurrences\n",
    "            ret.update({str(i):hist[i]}) # otherwise hist[i]=1\n",
    "    ########################\n",
    "    assert ret is not None, fname+' is not defined'\n",
    "    assert type(ret) is type({}), fname+' should return a dict'\n",
    "    if list_var == [3,3,3,2,2,1]: assert ret == {'3':3,'2':2}, 'failed [3,3,3,2,2,1]'\n",
    "    if list_var == [0,0,0,0,1]: assert ret == {'0':4}, 'failed [0,0,0,0,1]'\n",
    "    return ret"
   ]
  },
  {
   "cell_type": "code",
   "execution_count": 13,
   "metadata": {
    "collapsed": false
   },
   "outputs": [
    {
     "data": {
      "text/plain": [
       "{'r': 2, 'v': 3}"
      ]
     },
     "execution_count": 13,
     "metadata": {},
     "output_type": "execute_result"
    }
   ],
   "source": [
    "which_duplicates(\"prova rvgve\")"
   ]
  },
  {
   "cell_type": "code",
   "execution_count": 18,
   "metadata": {
    "collapsed": true
   },
   "outputs": [],
   "source": [
    "def compute_factorial(int_val):\n",
    "    '''\n",
    "    ex_5\n",
    "    '''\n",
    "    fname = inspect.stack()[0][3]\n",
    "    ret = None\n",
    "    ########################\n",
    "    ret = int_val \n",
    "    prev = ret-1 \n",
    "    if prev<0: \n",
    "        ret=1\n",
    "    else:\n",
    "        while prev>0:\n",
    "            ret*=prev\n",
    "            prev-=1\n",
    "    ########################\n",
    "    assert ret is not None, fname+' is not defined'\n",
    "    assert type(ret) is type(1), fname+' should return an integer'\n",
    "    if int_val is 0: assert ret == 1     , 'failed 0'\n",
    "    if int_val is 1: assert ret == 1     , 'failed 1'\n",
    "    if int_val is 2: assert ret == 2     , 'failed 2'\n",
    "    if int_val is 6: assert ret == 720   , 'failed 6'\n",
    "    if int_val is 9: assert ret == 362880, 'failed 9'\n",
    "    return ret\n"
   ]
  },
  {
   "cell_type": "code",
   "execution_count": 19,
   "metadata": {
    "collapsed": false
   },
   "outputs": [
    {
     "data": {
      "text/plain": [
       "1"
      ]
     },
     "execution_count": 19,
     "metadata": {},
     "output_type": "execute_result"
    }
   ],
   "source": [
    "compute_factorial(0)"
   ]
  },
  {
   "cell_type": "code",
   "execution_count": 24,
   "metadata": {
    "collapsed": false
   },
   "outputs": [
    {
     "data": {
      "text/plain": [
       "24"
      ]
     },
     "execution_count": 24,
     "metadata": {},
     "output_type": "execute_result"
    }
   ],
   "source": [
    "compute_factorial(4)"
   ]
  },
  {
   "cell_type": "code",
   "execution_count": 121,
   "metadata": {
    "collapsed": true
   },
   "outputs": [],
   "source": [
    "def is_prime(int_val):\n",
    "    '''\n",
    "    ex_6\n",
    "    '''\n",
    "    fname = inspect.stack()[0][3]\n",
    "    ret = None\n",
    "    ########################\n",
    "    # code here\n",
    "    if int_val <= 1:\n",
    "        ret = False\n",
    "    else:\n",
    "        d = 2\n",
    "        ret = True\n",
    "        while d < int_val:\n",
    "            if int_val%d==0:\n",
    "                ret = False\n",
    "                break\n",
    "            d+=1\n",
    "    ########################\n",
    "    assert ret is not None, fname+' is not defined'\n",
    "    assert type(ret) is type(False), fname+' should return a bool'\n",
    "    if int_val == 0: assert ret is False   , 'failed 0'\n",
    "    if int_val == 1: assert ret is False   , 'failed 1'\n",
    "    if int_val == 2: assert ret is True    , 'failed 2'\n",
    "    if int_val == 3: assert ret is True    , 'failed 3'\n",
    "    if int_val == 19: assert ret is True   , 'failed 19'\n",
    "    if int_val == 50: assert ret is False  , 'failed 50'\n",
    "    if int_val == 65: assert ret is False  , 'failed 65'\n",
    "    if int_val == 71: assert ret is True  , 'failed 71'\n",
    "    if int_val == 73: assert ret is True   , 'failed 73'\n",
    "    if int_val == 157: assert ret is True  , 'failed 157'\n",
    "    return ret\n"
   ]
  },
  {
   "cell_type": "code",
   "execution_count": 125,
   "metadata": {
    "collapsed": false
   },
   "outputs": [
    {
     "name": "stdout",
     "output_type": "stream",
     "text": [
      "False\n",
      "False\n",
      "True\n",
      "False\n",
      "False\n",
      "True\n",
      "False\n"
     ]
    }
   ],
   "source": [
    "print(is_prime(0))\n",
    "print(is_prime(1))\n",
    "print(is_prime(3))\n",
    "print(is_prime(4))\n",
    "print(is_prime(12))\n",
    "print(is_prime(17))\n",
    "print(is_prime(25))"
   ]
  },
  {
   "cell_type": "code",
   "execution_count": 41,
   "metadata": {
    "collapsed": true
   },
   "outputs": [],
   "source": [
    "def is_divisor(int_val,div):\n",
    "    '''\n",
    "    ex_7\n",
    "    '''\n",
    "    fname = inspect.stack()[0][3]\n",
    "    ret = None\n",
    "    ########################\n",
    "    # code here\n",
    "    \n",
    "    ret = False\n",
    "    if(int_val%div==0):\n",
    "        ret = True\n",
    "    ########################\n",
    "    assert ret is not None, fname+' is not defined'\n",
    "    assert type(ret) is type(False), fname+' should return a bool'\n",
    "    if int_val == 4 and div == 2: assert ret is True, 'failed 4/2'\n",
    "    if int_val == 15 and div == 5: assert ret is True, 'failed 15/5'\n",
    "    if int_val == 11 and div == 5: assert ret is False, 'failed 11/5'\n",
    "    return ret"
   ]
  },
  {
   "cell_type": "code",
   "execution_count": 112,
   "metadata": {
    "collapsed": false
   },
   "outputs": [
    {
     "name": "stdout",
     "output_type": "stream",
     "text": [
      "True\n",
      "True\n",
      "False\n"
     ]
    }
   ],
   "source": [
    "print(is_divisor(6,2))\n",
    "print(is_divisor(6,3))\n",
    "print(is_divisor(8,3))"
   ]
  },
  {
   "cell_type": "code",
   "execution_count": 117,
   "metadata": {
    "collapsed": true
   },
   "outputs": [],
   "source": [
    "def which_divisors(int_val): \n",
    "    '''\n",
    "    ex_8\n",
    "    '''\n",
    "    fname = inspect.stack()[0][3]\n",
    "    ret = None\n",
    "    ########################\n",
    "    # code here\n",
    "    ret = [] # empty list\n",
    "    div = 2 \n",
    "    while(div < int_val):\n",
    "        if(int_val%div == 0):\n",
    "            ret.append(div)\n",
    "        div+=1\n",
    "    ret = sorted(ret)\n",
    "    ########################\n",
    "    assert ret is not None, fname+' is not defined'\n",
    "    assert type(ret) is type([]), fname+' should return a list'\n",
    "    if int_val == 4: assert ret == [2]    , 'failed 4'\n",
    "    if int_val == 10: assert ret == [2,5] , 'failed 10'\n",
    "    if int_val == 13: assert ret == []    , 'failed 13'\n",
    "    return ret\n"
   ]
  },
  {
   "cell_type": "code",
   "execution_count": 50,
   "metadata": {
    "collapsed": false
   },
   "outputs": [
    {
     "name": "stdout",
     "output_type": "stream",
     "text": [
      "[]\n",
      "[3, 5]\n",
      "[2, 3, 4, 6, 8, 12]\n"
     ]
    }
   ],
   "source": [
    "print(which_divisors(5))\n",
    "print(which_divisors(15))\n",
    "print(which_divisors(24))"
   ]
  },
  {
   "cell_type": "code",
   "execution_count": 158,
   "metadata": {
    "collapsed": false
   },
   "outputs": [],
   "source": [
    "def which_prime_divisors(int_val): \n",
    "    '''\n",
    "    ex_9\n",
    "    '''\n",
    "    fname = inspect.stack()[0][3]\n",
    "    ret = None\n",
    "    ########################\n",
    "    # code here\n",
    "    old_list = which_divisors(int_val)\n",
    "    ret = []\n",
    "    for div in old_list:\n",
    "        if is_prime(div): # if is_prime(div)==False\n",
    "            ret.append(div)\n",
    "    ########################\n",
    "    assert ret is not None, fname+' is not defined'\n",
    "    assert type(ret) is type([]), fname+' should return a list'\n",
    "    if int_val == 6: assert ret == [2,3], 'failed 3'\n",
    "    if int_val is 10: ret == [2,5], 'failed 10'\n",
    "    if int_val is 13: ret == [], 'failed 13'\n",
    "    return ret"
   ]
  },
  {
   "cell_type": "code",
   "execution_count": 159,
   "metadata": {
    "collapsed": false
   },
   "outputs": [
    {
     "name": "stdout",
     "output_type": "stream",
     "text": [
      "[2, 3, 4, 6, 8, 12]\n",
      "[2, 3] \n",
      "\n",
      "[2, 5, 10, 25]\n",
      "[2, 5]\n"
     ]
    }
   ],
   "source": [
    "print(which_divisors(24))\n",
    "print(which_prime_divisors(24),\"\\n\")\n",
    "print(which_divisors(50))\n",
    "print(which_prime_divisors(50))"
   ]
  },
  {
   "cell_type": "code",
   "execution_count": 132,
   "metadata": {
    "collapsed": false
   },
   "outputs": [
    {
     "name": "stdout",
     "output_type": "stream",
     "text": [
      "is_palindrome('abcdefgfedcba')\t-> True\n",
      "is_palindrome('pippo')\t-> False\n",
      "is_palindrome('madamimadam')\t-> True\n",
      "histogram_letters('aabb')\t-> {'a': 2, 'b': 2}\n",
      "histogram_letters('abbccddddeeeeeffffff')\t-> {'a': 1, 'f': 6, 'b': 2, 'e': 5, 'c': 2, 'd': 4}\n",
      "histogram_letters('1.223344')\t-> {'.': 1, '4': 2, '3': 2, '1': 1, '2': 2}\n",
      "get_most_frequent([3,3,3,2,2,1])\t-> (3, 3)\n",
      "get_most_frequent([0,0,0,0,1])\t-> (0, 4)\n",
      "which_duplicates([3,3,3,2,2,1])\t-> {'2': 2, '3': 3}\n",
      "which_duplicates([0,0,0,0,1])\t-> {'0': 4}\n",
      "compute_factorial(0)\t-> 1\n",
      "compute_factorial(1)\t-> 1\n",
      "compute_factorial(2)\t-> 2\n",
      "compute_factorial(6)\t-> 720\n",
      "compute_factorial(9)\t-> 362880\n",
      "is_prime(0)\t-> False\n",
      "is_prime(1)\t-> False\n",
      "is_prime(2)\t-> True\n",
      "is_prime(3)\t-> True\n",
      "is_prime(50)\t-> False\n",
      "is_prime(65)\t-> False\n",
      "is_prime(71)\t-> True\n",
      "is_prime(73)\t-> True\n",
      "is_prime(19)\t-> True\n",
      "is_prime(157)\t-> True\n",
      "is_divisor(4,2)\t-> True\n",
      "is_divisor(15,5)\t-> True\n",
      "is_divisor(11,5)\t-> False\n",
      "which_divisors(4)\t-> [2]\n",
      "which_divisors(10)\t-> [2, 5]\n",
      "which_divisors(13)\t-> []\n",
      "which_prime_divisors(6)\t-> [2, 3]\n",
      "which_prime_divisors(10)\t-> [2, 5]\n",
      "which_prime_divisors(13)\t-> []\n"
     ]
    }
   ],
   "source": [
    "if __name__ == \"__main__\":\n",
    "    tests=[\\\n",
    "            \"is_palindrome('abcdefgfedcba')\",\\\n",
    "            \"is_palindrome('pippo')\",\\\n",
    "            \"is_palindrome('madamimadam')\",\\\n",
    "            \"histogram_letters('aabb')\",\\\n",
    "            \"histogram_letters('abbccddddeeeeeffffff')\",\\\n",
    "            \"histogram_letters('1.223344')\",\\\n",
    "            \"get_most_frequent([3,3,3,2,2,1])\",\\\n",
    "            \"get_most_frequent([0,0,0,0,1])\",\\\n",
    "            \"which_duplicates([3,3,3,2,2,1])\",\\\n",
    "            \"which_duplicates([0,0,0,0,1])\",\\\n",
    "            \"compute_factorial(0)\",\\\n",
    "            \"compute_factorial(1)\",\\\n",
    "            \"compute_factorial(2)\",\\\n",
    "            \"compute_factorial(6)\",\\\n",
    "            \"compute_factorial(9)\",\\\n",
    "            \"is_prime(0)\",\\\n",
    "            \"is_prime(1)\",\\\n",
    "            \"is_prime(2)\",\\\n",
    "            \"is_prime(3)\",\\\n",
    "            \"is_prime(50)\",\\\n",
    "            \"is_prime(65)\",\\\n",
    "            \"is_prime(71)\",\\\n",
    "            \"is_prime(73)\",\\\n",
    "            \"is_prime(19)\",\\\n",
    "            \"is_prime(157)\",\\\n",
    "            \"is_divisor(4,2)\",\\\n",
    "            \"is_divisor(15,5)\",\\\n",
    "            \"is_divisor(11,5)\",\\\n",
    "            \"which_divisors(4)\",\\\n",
    "            \"which_divisors(10)\",\\\n",
    "            \"which_divisors(13)\",\\\n",
    "            \"which_prime_divisors(6)\",\\\n",
    "            \"which_prime_divisors(10)\",\\\n",
    "            \"which_prime_divisors(13)\",\\\n",
    "          ]\n",
    "    for t in tests:\n",
    "        try:\n",
    "            print(t,end='\\t-> ')\n",
    "            print(eval(t))\n",
    "        except AssertionError as err:\n",
    "            print(\"ERROR: \",err) \n",
    "        \n"
   ]
  },
  {
   "cell_type": "code",
   "execution_count": 3,
   "metadata": {
    "collapsed": false
   },
   "outputs": [
    {
     "name": "stdout",
     "output_type": "stream",
     "text": [
      "spot_the_bug1()\n",
      "->\n",
      "ERROR:  why f(5) is 19 instead of 10?\n",
      "spot_the_bug2()\n",
      "->\n",
      "ERROR:  wrong word list - 3\n"
     ]
    }
   ],
   "source": [
    "def spot_the_bug1():\n",
    "    def define_methods():\n",
    "        methods = []                       \n",
    "        for i in range(10):                        \n",
    "            methods.append(lambda var: 2*var + i )        \n",
    "        return methods\n",
    "    ########################\n",
    "    # corrected fun here\n",
    "    ########################\n",
    "\n",
    "    funs = define_methods()\n",
    "    for i,f in enumerate(funs): \n",
    "        assert f(5)==2*5+i, 'why f(5) is '+str(f(5))+' instead of '+str(10+i)+'?'\n",
    "        print('f(5) ==',f(5),'== 2*5+i ==',(2*5+i))\n",
    "\n",
    "def spot_the_bug2():\n",
    "    def append_u_words(words, return_list=[]): # 'u' should be added to return_list when provided\n",
    "        u_words = [word for word in words if word.startswith('u')]\n",
    "        return_list += u_words\n",
    "        return return_list\n",
    "    ########################\n",
    "    # corrected fun here\n",
    "    ########################\n",
    "\n",
    "    assert append_u_words([\"u_word\", \"not_u_word\"])          == ['u_word']       , 'wrong word list - 1'\n",
    "    assert append_u_words([\"u_word\", \"not_u_word\"],[\"word\"]) == ['word','u_word'], 'wrong word list - 2'\n",
    "    assert append_u_words([\"under_control\", \"whatever\"])     == [\"under_control\"], 'wrong word list - 3'\n",
    "    assert append_u_words([\"under_control\", \"whatever\"],[])  == [\"under_control\"], 'wrong word list - 4'\n",
    "    assert append_u_words([\"unbelievable\"])                  == [\"unbelievable\"] , 'wrong word list - 5'\n",
    "     \n",
    "\n",
    "if __name__ == '__main__': \n",
    "    \n",
    "    tests = [\\\n",
    "             'spot_the_bug1()',\\\n",
    "             'spot_the_bug2()',\\\n",
    "            ]\n",
    "    for t in tests:\n",
    "        try:\n",
    "            print(t,end='\\n->\\n')\n",
    "            print(eval(t))\n",
    "            print('~~~~~~~~~~~~~~~~~~~~~~~~~~~~~~~~~~')\n",
    "        except AssertionError as err:\n",
    "            print(\"ERROR: \",err) \n",
    "    "
   ]
  }
 ],
 "metadata": {
  "anaconda-cloud": {},
  "kernelspec": {
   "display_name": "Python [default]",
   "language": "python",
   "name": "python3"
  },
  "language_info": {
   "codemirror_mode": {
    "name": "ipython",
    "version": 3
   },
   "file_extension": ".py",
   "mimetype": "text/x-python",
   "name": "python",
   "nbconvert_exporter": "python",
   "pygments_lexer": "ipython3",
   "version": "3.5.2"
  }
 },
 "nbformat": 4,
 "nbformat_minor": 1
}
